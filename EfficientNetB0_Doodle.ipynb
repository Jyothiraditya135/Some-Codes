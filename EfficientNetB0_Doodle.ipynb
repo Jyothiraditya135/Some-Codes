{
  "cells": [
    {
      "cell_type": "markdown",
      "metadata": {
        "id": "view-in-github",
        "colab_type": "text"
      },
      "source": [
        "<a href=\"https://colab.research.google.com/github/Jyothiraditya135/Some-Codes/blob/main/EfficientNetB0_Doodle.ipynb\" target=\"_parent\"><img src=\"https://colab.research.google.com/assets/colab-badge.svg\" alt=\"Open In Colab\"/></a>"
      ]
    },
    {
      "cell_type": "code",
      "execution_count": null,
      "metadata": {
        "id": "6u_cK5IPs37O"
      },
      "outputs": [],
      "source": [
        "import pandas as pd\n",
        "import numpy as np\n",
        "import json\n",
        "import tensorflow as tf\n",
        "from tensorflow.keras.applications import EfficientNetB0\n",
        "from tensorflow.keras.layers import Dense, GlobalAveragePooling2D\n",
        "from tensorflow.keras.preprocessing.image import img_to_array\n",
        "from tensorflow.keras.utils import to_categorical\n",
        "from sklearn.model_selection import train_test_split\n",
        "from sklearn.utils import shuffle\n",
        "import torch.optim as optim\n",
        "import torchvision.transforms as transforms"
      ]
    },
    {
      "cell_type": "code",
      "execution_count": null,
      "metadata": {
        "colab": {
          "base_uri": "https://localhost:8080/"
        },
        "id": "_HlhTNCnt0o4",
        "outputId": "6da39dbf-cb15-479c-dbad-54cff0dbe01f"
      },
      "outputs": [
        {
          "output_type": "stream",
          "name": "stdout",
          "text": [
            "/usr/local/lib/python3.10/dist-packages/gdown/cli.py:121: FutureWarning: Option `--id` was deprecated in version 4.3.1 and will be removed in 5.0. You don't need to pass it anymore to use a file ID.\n",
            "  warnings.warn(\n",
            "Downloading...\n",
            "From: https://drive.google.com/uc?id=1peDYAB52fFNnMmrGDT7oyJJ8a3yZjJGg\n",
            "To: /content/doodle-detectives-aiclubiitm.zip\n",
            "100% 114M/114M [00:01<00:00, 66.6MB/s]\n"
          ]
        }
      ],
      "source": [
        "!gdown --id \"1peDYAB52fFNnMmrGDT7oyJJ8a3yZjJGg\""
      ]
    },
    {
      "cell_type": "code",
      "execution_count": null,
      "metadata": {
        "colab": {
          "base_uri": "https://localhost:8080/"
        },
        "id": "pqT3glwpuFWn",
        "outputId": "66f7cfcd-bc08-4f59-9e37-744554572958"
      },
      "outputs": [
        {
          "output_type": "stream",
          "name": "stdout",
          "text": [
            "Archive:  /content/doodle-detectives-aiclubiitm.zip\n",
            "  inflating: sample_submission.csv   \n",
            "  inflating: test.csv                \n",
            "  inflating: train.csv               \n"
          ]
        }
      ],
      "source": [
        "!unzip \"/content/doodle-detectives-aiclubiitm.zip\""
      ]
    },
    {
      "cell_type": "code",
      "execution_count": null,
      "metadata": {
        "id": "mlobhyREs_Oe"
      },
      "outputs": [],
      "source": [
        "df = pd.read_csv(\"/content/train.csv\")"
      ]
    },
    {
      "cell_type": "code",
      "execution_count": null,
      "metadata": {
        "colab": {
          "base_uri": "https://localhost:8080/",
          "height": 206
        },
        "id": "Ot6rI0E1u9li",
        "outputId": "c880375f-d7b6-4e08-e2ce-44ce5d068c82"
      },
      "outputs": [
        {
          "output_type": "execute_result",
          "data": {
            "text/plain": [
              "                                             drawing            key_id  \\\n",
              "0  [[[108, 91, 51, 5, 19, 49, 32, 4, 0, 3, 51, 11...  6351448545689600   \n",
              "1  [[[98, 89, 82, 71, 48, 16, 9, 5, 5, 12, 48, 56...  5623056384917504   \n",
              "2  [[[185, 217, 255, 255, 243, 243, 240, 235, 222...  4538232068898816   \n",
              "3  [[[79, 61, 59, 59, 65, 65, 56, 55, 83, 105, 12...  6629670151782400   \n",
              "4  [[[87, 108, 133, 169, 232, 242, 244, 255, 246,...  5793545258532864   \n",
              "\n",
              "        word  recognized  \n",
              "0       fish       False  \n",
              "1     potato       False  \n",
              "2       fish        True  \n",
              "3   flamingo       False  \n",
              "4  bulldozer        True  "
            ],
            "text/html": [
              "\n",
              "  <div id=\"df-c7510b83-7a08-4db3-97a8-06b92b918111\" class=\"colab-df-container\">\n",
              "    <div>\n",
              "<style scoped>\n",
              "    .dataframe tbody tr th:only-of-type {\n",
              "        vertical-align: middle;\n",
              "    }\n",
              "\n",
              "    .dataframe tbody tr th {\n",
              "        vertical-align: top;\n",
              "    }\n",
              "\n",
              "    .dataframe thead th {\n",
              "        text-align: right;\n",
              "    }\n",
              "</style>\n",
              "<table border=\"1\" class=\"dataframe\">\n",
              "  <thead>\n",
              "    <tr style=\"text-align: right;\">\n",
              "      <th></th>\n",
              "      <th>drawing</th>\n",
              "      <th>key_id</th>\n",
              "      <th>word</th>\n",
              "      <th>recognized</th>\n",
              "    </tr>\n",
              "  </thead>\n",
              "  <tbody>\n",
              "    <tr>\n",
              "      <th>0</th>\n",
              "      <td>[[[108, 91, 51, 5, 19, 49, 32, 4, 0, 3, 51, 11...</td>\n",
              "      <td>6351448545689600</td>\n",
              "      <td>fish</td>\n",
              "      <td>False</td>\n",
              "    </tr>\n",
              "    <tr>\n",
              "      <th>1</th>\n",
              "      <td>[[[98, 89, 82, 71, 48, 16, 9, 5, 5, 12, 48, 56...</td>\n",
              "      <td>5623056384917504</td>\n",
              "      <td>potato</td>\n",
              "      <td>False</td>\n",
              "    </tr>\n",
              "    <tr>\n",
              "      <th>2</th>\n",
              "      <td>[[[185, 217, 255, 255, 243, 243, 240, 235, 222...</td>\n",
              "      <td>4538232068898816</td>\n",
              "      <td>fish</td>\n",
              "      <td>True</td>\n",
              "    </tr>\n",
              "    <tr>\n",
              "      <th>3</th>\n",
              "      <td>[[[79, 61, 59, 59, 65, 65, 56, 55, 83, 105, 12...</td>\n",
              "      <td>6629670151782400</td>\n",
              "      <td>flamingo</td>\n",
              "      <td>False</td>\n",
              "    </tr>\n",
              "    <tr>\n",
              "      <th>4</th>\n",
              "      <td>[[[87, 108, 133, 169, 232, 242, 244, 255, 246,...</td>\n",
              "      <td>5793545258532864</td>\n",
              "      <td>bulldozer</td>\n",
              "      <td>True</td>\n",
              "    </tr>\n",
              "  </tbody>\n",
              "</table>\n",
              "</div>\n",
              "    <div class=\"colab-df-buttons\">\n",
              "\n",
              "  <div class=\"colab-df-container\">\n",
              "    <button class=\"colab-df-convert\" onclick=\"convertToInteractive('df-c7510b83-7a08-4db3-97a8-06b92b918111')\"\n",
              "            title=\"Convert this dataframe to an interactive table.\"\n",
              "            style=\"display:none;\">\n",
              "\n",
              "  <svg xmlns=\"http://www.w3.org/2000/svg\" height=\"24px\" viewBox=\"0 -960 960 960\">\n",
              "    <path d=\"M120-120v-720h720v720H120Zm60-500h600v-160H180v160Zm220 220h160v-160H400v160Zm0 220h160v-160H400v160ZM180-400h160v-160H180v160Zm440 0h160v-160H620v160ZM180-180h160v-160H180v160Zm440 0h160v-160H620v160Z\"/>\n",
              "  </svg>\n",
              "    </button>\n",
              "\n",
              "  <style>\n",
              "    .colab-df-container {\n",
              "      display:flex;\n",
              "      gap: 12px;\n",
              "    }\n",
              "\n",
              "    .colab-df-convert {\n",
              "      background-color: #E8F0FE;\n",
              "      border: none;\n",
              "      border-radius: 50%;\n",
              "      cursor: pointer;\n",
              "      display: none;\n",
              "      fill: #1967D2;\n",
              "      height: 32px;\n",
              "      padding: 0 0 0 0;\n",
              "      width: 32px;\n",
              "    }\n",
              "\n",
              "    .colab-df-convert:hover {\n",
              "      background-color: #E2EBFA;\n",
              "      box-shadow: 0px 1px 2px rgba(60, 64, 67, 0.3), 0px 1px 3px 1px rgba(60, 64, 67, 0.15);\n",
              "      fill: #174EA6;\n",
              "    }\n",
              "\n",
              "    .colab-df-buttons div {\n",
              "      margin-bottom: 4px;\n",
              "    }\n",
              "\n",
              "    [theme=dark] .colab-df-convert {\n",
              "      background-color: #3B4455;\n",
              "      fill: #D2E3FC;\n",
              "    }\n",
              "\n",
              "    [theme=dark] .colab-df-convert:hover {\n",
              "      background-color: #434B5C;\n",
              "      box-shadow: 0px 1px 3px 1px rgba(0, 0, 0, 0.15);\n",
              "      filter: drop-shadow(0px 1px 2px rgba(0, 0, 0, 0.3));\n",
              "      fill: #FFFFFF;\n",
              "    }\n",
              "  </style>\n",
              "\n",
              "    <script>\n",
              "      const buttonEl =\n",
              "        document.querySelector('#df-c7510b83-7a08-4db3-97a8-06b92b918111 button.colab-df-convert');\n",
              "      buttonEl.style.display =\n",
              "        google.colab.kernel.accessAllowed ? 'block' : 'none';\n",
              "\n",
              "      async function convertToInteractive(key) {\n",
              "        const element = document.querySelector('#df-c7510b83-7a08-4db3-97a8-06b92b918111');\n",
              "        const dataTable =\n",
              "          await google.colab.kernel.invokeFunction('convertToInteractive',\n",
              "                                                    [key], {});\n",
              "        if (!dataTable) return;\n",
              "\n",
              "        const docLinkHtml = 'Like what you see? Visit the ' +\n",
              "          '<a target=\"_blank\" href=https://colab.research.google.com/notebooks/data_table.ipynb>data table notebook</a>'\n",
              "          + ' to learn more about interactive tables.';\n",
              "        element.innerHTML = '';\n",
              "        dataTable['output_type'] = 'display_data';\n",
              "        await google.colab.output.renderOutput(dataTable, element);\n",
              "        const docLink = document.createElement('div');\n",
              "        docLink.innerHTML = docLinkHtml;\n",
              "        element.appendChild(docLink);\n",
              "      }\n",
              "    </script>\n",
              "  </div>\n",
              "\n",
              "\n",
              "<div id=\"df-5d9da78a-2314-456c-b8ca-938185664ff6\">\n",
              "  <button class=\"colab-df-quickchart\" onclick=\"quickchart('df-5d9da78a-2314-456c-b8ca-938185664ff6')\"\n",
              "            title=\"Suggest charts.\"\n",
              "            style=\"display:none;\">\n",
              "\n",
              "<svg xmlns=\"http://www.w3.org/2000/svg\" height=\"24px\"viewBox=\"0 0 24 24\"\n",
              "     width=\"24px\">\n",
              "    <g>\n",
              "        <path d=\"M19 3H5c-1.1 0-2 .9-2 2v14c0 1.1.9 2 2 2h14c1.1 0 2-.9 2-2V5c0-1.1-.9-2-2-2zM9 17H7v-7h2v7zm4 0h-2V7h2v10zm4 0h-2v-4h2v4z\"/>\n",
              "    </g>\n",
              "</svg>\n",
              "  </button>\n",
              "\n",
              "<style>\n",
              "  .colab-df-quickchart {\n",
              "      --bg-color: #E8F0FE;\n",
              "      --fill-color: #1967D2;\n",
              "      --hover-bg-color: #E2EBFA;\n",
              "      --hover-fill-color: #174EA6;\n",
              "      --disabled-fill-color: #AAA;\n",
              "      --disabled-bg-color: #DDD;\n",
              "  }\n",
              "\n",
              "  [theme=dark] .colab-df-quickchart {\n",
              "      --bg-color: #3B4455;\n",
              "      --fill-color: #D2E3FC;\n",
              "      --hover-bg-color: #434B5C;\n",
              "      --hover-fill-color: #FFFFFF;\n",
              "      --disabled-bg-color: #3B4455;\n",
              "      --disabled-fill-color: #666;\n",
              "  }\n",
              "\n",
              "  .colab-df-quickchart {\n",
              "    background-color: var(--bg-color);\n",
              "    border: none;\n",
              "    border-radius: 50%;\n",
              "    cursor: pointer;\n",
              "    display: none;\n",
              "    fill: var(--fill-color);\n",
              "    height: 32px;\n",
              "    padding: 0;\n",
              "    width: 32px;\n",
              "  }\n",
              "\n",
              "  .colab-df-quickchart:hover {\n",
              "    background-color: var(--hover-bg-color);\n",
              "    box-shadow: 0 1px 2px rgba(60, 64, 67, 0.3), 0 1px 3px 1px rgba(60, 64, 67, 0.15);\n",
              "    fill: var(--button-hover-fill-color);\n",
              "  }\n",
              "\n",
              "  .colab-df-quickchart-complete:disabled,\n",
              "  .colab-df-quickchart-complete:disabled:hover {\n",
              "    background-color: var(--disabled-bg-color);\n",
              "    fill: var(--disabled-fill-color);\n",
              "    box-shadow: none;\n",
              "  }\n",
              "\n",
              "  .colab-df-spinner {\n",
              "    border: 2px solid var(--fill-color);\n",
              "    border-color: transparent;\n",
              "    border-bottom-color: var(--fill-color);\n",
              "    animation:\n",
              "      spin 1s steps(1) infinite;\n",
              "  }\n",
              "\n",
              "  @keyframes spin {\n",
              "    0% {\n",
              "      border-color: transparent;\n",
              "      border-bottom-color: var(--fill-color);\n",
              "      border-left-color: var(--fill-color);\n",
              "    }\n",
              "    20% {\n",
              "      border-color: transparent;\n",
              "      border-left-color: var(--fill-color);\n",
              "      border-top-color: var(--fill-color);\n",
              "    }\n",
              "    30% {\n",
              "      border-color: transparent;\n",
              "      border-left-color: var(--fill-color);\n",
              "      border-top-color: var(--fill-color);\n",
              "      border-right-color: var(--fill-color);\n",
              "    }\n",
              "    40% {\n",
              "      border-color: transparent;\n",
              "      border-right-color: var(--fill-color);\n",
              "      border-top-color: var(--fill-color);\n",
              "    }\n",
              "    60% {\n",
              "      border-color: transparent;\n",
              "      border-right-color: var(--fill-color);\n",
              "    }\n",
              "    80% {\n",
              "      border-color: transparent;\n",
              "      border-right-color: var(--fill-color);\n",
              "      border-bottom-color: var(--fill-color);\n",
              "    }\n",
              "    90% {\n",
              "      border-color: transparent;\n",
              "      border-bottom-color: var(--fill-color);\n",
              "    }\n",
              "  }\n",
              "</style>\n",
              "\n",
              "  <script>\n",
              "    async function quickchart(key) {\n",
              "      const quickchartButtonEl =\n",
              "        document.querySelector('#' + key + ' button');\n",
              "      quickchartButtonEl.disabled = true;  // To prevent multiple clicks.\n",
              "      quickchartButtonEl.classList.add('colab-df-spinner');\n",
              "      try {\n",
              "        const charts = await google.colab.kernel.invokeFunction(\n",
              "            'suggestCharts', [key], {});\n",
              "      } catch (error) {\n",
              "        console.error('Error during call to suggestCharts:', error);\n",
              "      }\n",
              "      quickchartButtonEl.classList.remove('colab-df-spinner');\n",
              "      quickchartButtonEl.classList.add('colab-df-quickchart-complete');\n",
              "    }\n",
              "    (() => {\n",
              "      let quickchartButtonEl =\n",
              "        document.querySelector('#df-5d9da78a-2314-456c-b8ca-938185664ff6 button');\n",
              "      quickchartButtonEl.style.display =\n",
              "        google.colab.kernel.accessAllowed ? 'block' : 'none';\n",
              "    })();\n",
              "  </script>\n",
              "</div>\n",
              "    </div>\n",
              "  </div>\n"
            ]
          },
          "metadata": {},
          "execution_count": 5
        }
      ],
      "source": [
        "df.head()"
      ]
    },
    {
      "cell_type": "code",
      "execution_count": null,
      "metadata": {
        "colab": {
          "base_uri": "https://localhost:8080/"
        },
        "id": "bgG1YYe22bhB",
        "outputId": "0db853f9-7672-4961-eea6-e7edd8e7da08"
      },
      "outputs": [
        {
          "output_type": "stream",
          "name": "stdout",
          "text": [
            "[False  True]\n"
          ]
        }
      ],
      "source": [
        "unique_values = df['recognized'].unique()\n",
        "print(unique_values)"
      ]
    },
    {
      "cell_type": "code",
      "execution_count": null,
      "metadata": {
        "id": "HMiQvfAR8HXw"
      },
      "outputs": [],
      "source": [
        "df_true = df[df['recognized']==True]\n",
        "df.head()"
      ]
    },
    {
      "cell_type": "code",
      "source": [
        "df_false = df[df['recognized']==False]\n",
        "df.head()"
      ],
      "metadata": {
        "id": "T3J0njIiUXIJ"
      },
      "execution_count": null,
      "outputs": []
    },
    {
      "cell_type": "code",
      "source": [
        "num_images_per_class = 200\n",
        "grouped = df.groupby('word')\n",
        "selected_df = pd.DataFrame()\n",
        "for label, group in grouped:\n",
        "    selected_samples = group.sample(n=num_images_per_class, random_state=42)\n",
        "    selected_df = pd.concat([selected_df, selected_samples])\n",
        "selected_df = selected_df.reset_index(drop=True)"
      ],
      "metadata": {
        "id": "9niRSBtpUehd"
      },
      "execution_count": null,
      "outputs": []
    },
    {
      "cell_type": "code",
      "source": [
        "dff = pd.concat([selected_df, df_true], ignore_index=True)\n",
        "df = dff.sample(frac=1, random_state=42).reset_index(drop=True)"
      ],
      "metadata": {
        "id": "JiLrw2fRVBxm"
      },
      "execution_count": null,
      "outputs": []
    },
    {
      "cell_type": "code",
      "source": [
        "def categorical_focal_loss(gamma=2., alpha=.25):\n",
        "    def categorical_focal_loss_fixed(y_true, y_pred):\n",
        "        y_pred /= tf.keras.backend.sum(y_pred, axis=-1, keepdims=True)\n",
        "        epsilon = tf.keras.backend.epsilon()\n",
        "        y_pred = tf.clip_by_value(y_pred, epsilon, 1. - epsilon)\n",
        "        cross_entropy = -y_true * tf.math.log(y_pred)\n",
        "        loss = alpha * tf.keras.backend.pow(1 - y_pred, gamma) * cross_entropy\n",
        "        return tf.keras.backend.sum(loss, axis=1)\n",
        "    return categorical_focal_loss_fixed"
      ],
      "metadata": {
        "id": "OVcf4aTvBxtu"
      },
      "execution_count": null,
      "outputs": []
    },
    {
      "cell_type": "code",
      "execution_count": null,
      "metadata": {
        "id": "fcwBnrJCwSnm",
        "colab": {
          "base_uri": "https://localhost:8080/"
        },
        "outputId": "4ff912ef-b0ea-41d1-a727-d75807496f36"
      },
      "outputs": [
        {
          "output_type": "stream",
          "name": "stdout",
          "text": [
            "Downloading data from https://storage.googleapis.com/keras-applications/efficientnetb0_notop.h5\n",
            "16705208/16705208 [==============================] - 0s 0us/step\n"
          ]
        }
      ],
      "source": [
        "# Load the EfficientNetB0 model without the top classification layer\n",
        "base_model = EfficientNetB0(weights='imagenet', include_top=False, input_shape=(224, 224, 3))\n",
        "\n",
        "# Freeze the layers of the base model\n",
        "for layer in base_model.layers:\n",
        "    layer.trainable = False\n",
        "\n",
        "# Get unique labels from the DataFrame\n",
        "unique_labels = df['word'].unique()\n",
        "num_classes = len(unique_labels)\n",
        "\n",
        "# Create a mapping from label strings to integers\n",
        "label_to_index = {label: index for index, label in enumerate(unique_labels)}\n",
        "\n",
        "# Add a new column with integer labels\n",
        "df['label_id'] = df['word'].map(label_to_index)\n",
        "\n",
        "model = tf.keras.Sequential([\n",
        "     base_model,\n",
        "     GlobalAveragePooling2D(),\n",
        "     Dense(num_classes, activation='softmax')\n",
        "  ])\n",
        "\n",
        "# Compile the model\n",
        "model.compile(optimizer='adam', loss=categorical_focal_loss(gamma=5., alpha=.81), metrics=['accuracy'])"
      ]
    },
    {
      "cell_type": "code",
      "execution_count": null,
      "metadata": {
        "id": "9ixVFZGgs9Vh"
      },
      "outputs": [],
      "source": [
        "# # Function to preprocess JSON representations and return an image array\n",
        "# def preprocess_json(json_data):\n",
        "#     image_data = json.loads(json_data)\n",
        "#     # Assuming JSON representation contains grayscale pixel values in the 'data' field\n",
        "#     image_array = np.array(image_data['data'])\n",
        "#     image_array = image_array.reshape(224, 224, 1)  # Add a single channel for grayscale\n",
        "#     image_array = np.repeat(image_array, 3, axis=2)  # Convert to RGB format\n",
        "#     image_array = img_to_array(image_array)\n",
        "#     image_array = np.expand_dims(image_array, axis=0)  # Add batch dimension\n",
        "#     return image_array\n",
        "\n",
        "from PIL import Image, ImageDraw\n",
        "import numpy as np\n",
        "import json\n",
        "\n",
        "def vector_to_numpy(drawing, side=256):\n",
        "    image = vector_to_image(drawing, side)\n",
        "    image_array = np.array(image)\n",
        "    return image_array\n",
        "\n",
        "transform = transforms.Compose([\n",
        "    #transforms.Grayscale(num_output_channels=3),  # Convert grayscale to RGB\n",
        "    transforms.Resize((224, 224)),  # Resize the image to the input size of EfficientNet\n",
        "    transforms.ToTensor(),  # Convert the image to a tensor\n",
        "    transforms.Normalize(mean=[0.485, 0.456, 0.406], std=[0.229, 0.224, 0.225]),  # Normalize the image\n",
        "])\n",
        "\n",
        "def vector_to_image(drawing, side=256):\n",
        "    drawing = json.loads(drawing)\n",
        "    min_x, min_y, max_x, max_y = calculate_bounding_box(drawing)\n",
        "\n",
        "    # Calculate the offset to center the drawing within the canvas\n",
        "    offset_x = (side - (max_x - min_x + 1)) // 2\n",
        "    offset_y = (side - (max_y - min_y + 1)) // 2\n",
        "\n",
        "    # Create an RGB image with white background\n",
        "    image = Image.new('RGB', (side, side), color='white')\n",
        "    draw = ImageDraw.Draw(image)\n",
        "\n",
        "    for x, y in drawing:\n",
        "        xy = [(x0 - min_x + offset_x, y0 - min_y + offset_y) for x0, y0 in zip(x, y)]\n",
        "        draw.line(xy, fill='black', width=1)\n",
        "\n",
        "    # Resize the image to (224, 224)\n",
        "    image = image.resize((224, 224))\n",
        "\n",
        "    return image\n",
        "\n",
        "\n",
        "def calculate_bounding_box(drawing):\n",
        "    all_x = [x for x, _ in drawing]\n",
        "    all_y = [y for _, y in drawing]\n",
        "\n",
        "    min_x = min(min(x) for x in all_x)\n",
        "    min_y = min(min(y) for y in all_y)\n",
        "    max_x = max(max(x) for x in all_x)\n",
        "    max_y = max(max(y) for y in all_y)\n",
        "\n",
        "    return min_x, min_y, max_x, max_y\n",
        "\n",
        "def image_data_generator(df, batch_size, target_size=(224, 224)):\n",
        "    num_samples = len(df)\n",
        "    while True:\n",
        "        # Shuffle the DataFrame\n",
        "        df_shuffled = shuffle(df)\n",
        "\n",
        "        for offset in range(0, num_samples, batch_size):\n",
        "            batch_samples = df_shuffled.iloc[offset:offset+batch_size]\n",
        "            X_batch = []\n",
        "            for json_data in batch_samples['drawing']:\n",
        "                image = vector_to_image(json_data)\n",
        "                image = image.resize(target_size)  # Resize to (224, 224)\n",
        "                image_array = img_to_array(image)\n",
        "                X_batch.append(image_array)\n",
        "            X_batch = np.array(X_batch)\n",
        "            y_batch = to_categorical(batch_samples['label_id'], num_classes=num_classes)\n",
        "            yield X_batch, y_batch"
      ]
    },
    {
      "cell_type": "code",
      "execution_count": null,
      "metadata": {
        "id": "CEMy6bEqwXii",
        "colab": {
          "base_uri": "https://localhost:8080/"
        },
        "outputId": "95145866-bda1-40c7-b887-d66b7db2f175"
      },
      "outputs": [
        {
          "output_type": "stream",
          "name": "stdout",
          "text": [
            "Epoch 1/5\n",
            "2163/2163 [==============================] - 1441s 660ms/step - loss: 1.4241 - accuracy: 0.4834\n",
            "Epoch 2/5\n",
            "2163/2163 [==============================] - 1408s 651ms/step - loss: 1.1881 - accuracy: 0.5460\n",
            "Epoch 3/5\n",
            "2163/2163 [==============================] - 1409s 651ms/step - loss: 1.1375 - accuracy: 0.5602\n",
            "Epoch 4/5\n",
            "2163/2163 [==============================] - 1410s 652ms/step - loss: 1.1077 - accuracy: 0.5685\n",
            "Epoch 5/5\n",
            "2163/2163 [==============================] - 1417s 655ms/step - loss: 1.0872 - accuracy: 0.5736\n"
          ]
        },
        {
          "output_type": "stream",
          "name": "stderr",
          "text": [
            "/usr/local/lib/python3.10/dist-packages/keras/src/engine/training.py:3000: UserWarning: You are saving your model as an HDF5 file via `model.save()`. This file format is considered legacy. We recommend using instead the native Keras format, e.g. `model.save('my_model.keras')`.\n",
            "  saving_api.save_model(\n"
          ]
        }
      ],
      "source": [
        "# Define batch size and number of epochs\n",
        "batch_size = 200\n",
        "epochs = 5\n",
        "\n",
        "# Create the custom data generator\n",
        "train_generator = image_data_generator(df, batch_size=batch_size)\n",
        "steps_per_epoch = len(df) // batch_size\n",
        "\n",
        "# Train the model with contrastive loss using the custom data generator\n",
        "model.fit(train_generator, steps_per_epoch=steps_per_epoch, epochs=epochs)\n",
        "\n",
        "# Optionally, you can save the trained model for future use\n",
        "model.save('efficientnet_grayscale_contrastive_model.h5')"
      ]
    },
    {
      "cell_type": "code",
      "execution_count": null,
      "metadata": {
        "id": "KOIob14f4izf"
      },
      "outputs": [],
      "source": [
        "# df = pd.read_csv(\"/content/train.csv\")\n",
        "# df = df[df['recognized']==False]\n",
        "# df.head()"
      ]
    },
    {
      "cell_type": "code",
      "source": [
        "# # Get unique labels from the DataFrame\n",
        "# unique_labels = df['word'].unique()\n",
        "# num_classes = len(unique_labels)\n",
        "\n",
        "# # Create a mapping from label strings to integers\n",
        "# label_to_index = {label: index for index, label in enumerate(unique_labels)}\n",
        "\n",
        "# # Add a new column with integer labels\n",
        "# df['label_id'] = df['word'].map(label_to_index)"
      ],
      "metadata": {
        "id": "aLl-0RRTaslU"
      },
      "execution_count": null,
      "outputs": []
    },
    {
      "cell_type": "code",
      "execution_count": null,
      "metadata": {
        "id": "aeEMC-bS5h2S"
      },
      "outputs": [],
      "source": [
        "# # Define batch size and number of epochs\n",
        "# batch_size = 200\n",
        "# epochs = 2\n",
        "\n",
        "# # Create the custom data generator\n",
        "# train_generator = image_data_generator(df, batch_size=batch_size)\n",
        "# steps_per_epoch = len(df) // batch_size"
      ]
    },
    {
      "cell_type": "code",
      "source": [
        "# from tensorflow.keras.models import load_model\n",
        "# pretrained_model = load_model('/content/efficientnet_grayscale_contrastive_model.h5')\n",
        "\n",
        "# # Freeze the layers of the pretrained_model model\n",
        "# for layer in pretrained_model.layers:\n",
        "#     layer.trainable = False\n",
        "\n",
        "# # Get unique labels from the DataFrame\n",
        "# unique_labels = df['word'].unique()\n",
        "# num_classes = len(unique_labels)\n",
        "\n",
        "# # Create a mapping from label strings to integers\n",
        "# label_to_index = {label: index for index, label in enumerate(unique_labels)}\n",
        "\n",
        "# # Add a new column with integer labels\n",
        "# df['label_id'] = df['word'].map(label_to_index)\n",
        "\n",
        "# full_model = tf.keras.Sequential([\n",
        "#      pretrained_model,\n",
        "#      Dense(num_classes, activation='softmax')\n",
        "#   ])\n",
        "\n",
        "# # Compile the model\n",
        "# full_model.compile(optimizer='adam', loss='categorical_crossentropy', metrics=['accuracy'])"
      ],
      "metadata": {
        "id": "zif5YDNE3Wn7"
      },
      "execution_count": null,
      "outputs": []
    },
    {
      "cell_type": "code",
      "source": [
        "# full_model.fit(train_generator, steps_per_epoch=steps_per_epoch, epochs=epochs)\n",
        "# full_model.save('updated_model.h5')"
      ],
      "metadata": {
        "id": "o5qi_18ibrI6"
      },
      "execution_count": null,
      "outputs": []
    },
    {
      "cell_type": "code",
      "execution_count": null,
      "metadata": {
        "id": "i0LLTEIs2KSN"
      },
      "outputs": [],
      "source": [
        "# from google.colab import drive\n",
        "# drive.mount('/content/drive')"
      ]
    },
    {
      "cell_type": "code",
      "execution_count": null,
      "metadata": {
        "id": "QkbtpT3m23KI"
      },
      "outputs": [],
      "source": [
        "# # Assuming 'model' is your trained model\n",
        "# model.save('/content/drive/MyDrive/my_model.keras')"
      ]
    },
    {
      "cell_type": "code",
      "execution_count": null,
      "metadata": {
        "id": "Mxmvljej2-cE"
      },
      "outputs": [],
      "source": [
        "# from tensorflow.keras.models import load_model\n",
        "\n",
        "# # Load the model from the local file\n",
        "# model = load_model('efficientnet_grayscale_contrastive_model.h5')"
      ]
    },
    {
      "cell_type": "code",
      "source": [
        "# Get unique labels from the DataFrame\n",
        "unique_labels = df['word'].unique()\n",
        "num_classes = len(unique_labels)\n",
        "\n",
        "# Create a mapping from label strings to integers\n",
        "label_to_index = {label: index for index, label in enumerate(unique_labels)}\n",
        "\n",
        "# Add a new column with integer labels\n",
        "df['label_id'] = df['word'].map(label_to_index)"
      ],
      "metadata": {
        "id": "edW2aJovtFoZ"
      },
      "execution_count": null,
      "outputs": []
    },
    {
      "cell_type": "code",
      "execution_count": null,
      "metadata": {
        "id": "v2DUXa6uiIOM"
      },
      "outputs": [],
      "source": [
        "test_df = pd.read_csv(\"/content/test.csv\")\n",
        "ss = pd.read_csv(\"/content/sample_submission.csv\")"
      ]
    },
    {
      "cell_type": "code",
      "execution_count": null,
      "metadata": {
        "id": "8X03vCSB5Nzs",
        "colab": {
          "base_uri": "https://localhost:8080/",
          "height": 206
        },
        "outputId": "f55b9519-e2bd-4f17-f94e-2526f34549db"
      },
      "outputs": [
        {
          "output_type": "execute_result",
          "data": {
            "text/plain": [
              "                                             drawing            key_id\n",
              "0  [[[99, 98, 102, 104, 96, 101], [39, 43, 41, 36...  4635484858875904\n",
              "1  [[[149, 149, 164, 163, 155, 131, 127, 91, 78, ...  5954439485587456\n",
              "2  [[[124, 80, 66, 54, 35, 22, 17, 17, 26, 44, 50...  4703897211895808\n",
              "3  [[[24, 31, 23, 21, 36, 56, 87, 119, 142, 162, ...  4614697670148096\n",
              "4  [[[73, 73, 78, 103, 114, 120, 122, 112, 97, 84...  5669598810603520"
            ],
            "text/html": [
              "\n",
              "  <div id=\"df-9be11fd3-8513-4143-8585-c20a61e69a4f\" class=\"colab-df-container\">\n",
              "    <div>\n",
              "<style scoped>\n",
              "    .dataframe tbody tr th:only-of-type {\n",
              "        vertical-align: middle;\n",
              "    }\n",
              "\n",
              "    .dataframe tbody tr th {\n",
              "        vertical-align: top;\n",
              "    }\n",
              "\n",
              "    .dataframe thead th {\n",
              "        text-align: right;\n",
              "    }\n",
              "</style>\n",
              "<table border=\"1\" class=\"dataframe\">\n",
              "  <thead>\n",
              "    <tr style=\"text-align: right;\">\n",
              "      <th></th>\n",
              "      <th>drawing</th>\n",
              "      <th>key_id</th>\n",
              "    </tr>\n",
              "  </thead>\n",
              "  <tbody>\n",
              "    <tr>\n",
              "      <th>0</th>\n",
              "      <td>[[[99, 98, 102, 104, 96, 101], [39, 43, 41, 36...</td>\n",
              "      <td>4635484858875904</td>\n",
              "    </tr>\n",
              "    <tr>\n",
              "      <th>1</th>\n",
              "      <td>[[[149, 149, 164, 163, 155, 131, 127, 91, 78, ...</td>\n",
              "      <td>5954439485587456</td>\n",
              "    </tr>\n",
              "    <tr>\n",
              "      <th>2</th>\n",
              "      <td>[[[124, 80, 66, 54, 35, 22, 17, 17, 26, 44, 50...</td>\n",
              "      <td>4703897211895808</td>\n",
              "    </tr>\n",
              "    <tr>\n",
              "      <th>3</th>\n",
              "      <td>[[[24, 31, 23, 21, 36, 56, 87, 119, 142, 162, ...</td>\n",
              "      <td>4614697670148096</td>\n",
              "    </tr>\n",
              "    <tr>\n",
              "      <th>4</th>\n",
              "      <td>[[[73, 73, 78, 103, 114, 120, 122, 112, 97, 84...</td>\n",
              "      <td>5669598810603520</td>\n",
              "    </tr>\n",
              "  </tbody>\n",
              "</table>\n",
              "</div>\n",
              "    <div class=\"colab-df-buttons\">\n",
              "\n",
              "  <div class=\"colab-df-container\">\n",
              "    <button class=\"colab-df-convert\" onclick=\"convertToInteractive('df-9be11fd3-8513-4143-8585-c20a61e69a4f')\"\n",
              "            title=\"Convert this dataframe to an interactive table.\"\n",
              "            style=\"display:none;\">\n",
              "\n",
              "  <svg xmlns=\"http://www.w3.org/2000/svg\" height=\"24px\" viewBox=\"0 -960 960 960\">\n",
              "    <path d=\"M120-120v-720h720v720H120Zm60-500h600v-160H180v160Zm220 220h160v-160H400v160Zm0 220h160v-160H400v160ZM180-400h160v-160H180v160Zm440 0h160v-160H620v160ZM180-180h160v-160H180v160Zm440 0h160v-160H620v160Z\"/>\n",
              "  </svg>\n",
              "    </button>\n",
              "\n",
              "  <style>\n",
              "    .colab-df-container {\n",
              "      display:flex;\n",
              "      gap: 12px;\n",
              "    }\n",
              "\n",
              "    .colab-df-convert {\n",
              "      background-color: #E8F0FE;\n",
              "      border: none;\n",
              "      border-radius: 50%;\n",
              "      cursor: pointer;\n",
              "      display: none;\n",
              "      fill: #1967D2;\n",
              "      height: 32px;\n",
              "      padding: 0 0 0 0;\n",
              "      width: 32px;\n",
              "    }\n",
              "\n",
              "    .colab-df-convert:hover {\n",
              "      background-color: #E2EBFA;\n",
              "      box-shadow: 0px 1px 2px rgba(60, 64, 67, 0.3), 0px 1px 3px 1px rgba(60, 64, 67, 0.15);\n",
              "      fill: #174EA6;\n",
              "    }\n",
              "\n",
              "    .colab-df-buttons div {\n",
              "      margin-bottom: 4px;\n",
              "    }\n",
              "\n",
              "    [theme=dark] .colab-df-convert {\n",
              "      background-color: #3B4455;\n",
              "      fill: #D2E3FC;\n",
              "    }\n",
              "\n",
              "    [theme=dark] .colab-df-convert:hover {\n",
              "      background-color: #434B5C;\n",
              "      box-shadow: 0px 1px 3px 1px rgba(0, 0, 0, 0.15);\n",
              "      filter: drop-shadow(0px 1px 2px rgba(0, 0, 0, 0.3));\n",
              "      fill: #FFFFFF;\n",
              "    }\n",
              "  </style>\n",
              "\n",
              "    <script>\n",
              "      const buttonEl =\n",
              "        document.querySelector('#df-9be11fd3-8513-4143-8585-c20a61e69a4f button.colab-df-convert');\n",
              "      buttonEl.style.display =\n",
              "        google.colab.kernel.accessAllowed ? 'block' : 'none';\n",
              "\n",
              "      async function convertToInteractive(key) {\n",
              "        const element = document.querySelector('#df-9be11fd3-8513-4143-8585-c20a61e69a4f');\n",
              "        const dataTable =\n",
              "          await google.colab.kernel.invokeFunction('convertToInteractive',\n",
              "                                                    [key], {});\n",
              "        if (!dataTable) return;\n",
              "\n",
              "        const docLinkHtml = 'Like what you see? Visit the ' +\n",
              "          '<a target=\"_blank\" href=https://colab.research.google.com/notebooks/data_table.ipynb>data table notebook</a>'\n",
              "          + ' to learn more about interactive tables.';\n",
              "        element.innerHTML = '';\n",
              "        dataTable['output_type'] = 'display_data';\n",
              "        await google.colab.output.renderOutput(dataTable, element);\n",
              "        const docLink = document.createElement('div');\n",
              "        docLink.innerHTML = docLinkHtml;\n",
              "        element.appendChild(docLink);\n",
              "      }\n",
              "    </script>\n",
              "  </div>\n",
              "\n",
              "\n",
              "<div id=\"df-5017ad64-c002-414e-8bd5-22db86e65f98\">\n",
              "  <button class=\"colab-df-quickchart\" onclick=\"quickchart('df-5017ad64-c002-414e-8bd5-22db86e65f98')\"\n",
              "            title=\"Suggest charts.\"\n",
              "            style=\"display:none;\">\n",
              "\n",
              "<svg xmlns=\"http://www.w3.org/2000/svg\" height=\"24px\"viewBox=\"0 0 24 24\"\n",
              "     width=\"24px\">\n",
              "    <g>\n",
              "        <path d=\"M19 3H5c-1.1 0-2 .9-2 2v14c0 1.1.9 2 2 2h14c1.1 0 2-.9 2-2V5c0-1.1-.9-2-2-2zM9 17H7v-7h2v7zm4 0h-2V7h2v10zm4 0h-2v-4h2v4z\"/>\n",
              "    </g>\n",
              "</svg>\n",
              "  </button>\n",
              "\n",
              "<style>\n",
              "  .colab-df-quickchart {\n",
              "      --bg-color: #E8F0FE;\n",
              "      --fill-color: #1967D2;\n",
              "      --hover-bg-color: #E2EBFA;\n",
              "      --hover-fill-color: #174EA6;\n",
              "      --disabled-fill-color: #AAA;\n",
              "      --disabled-bg-color: #DDD;\n",
              "  }\n",
              "\n",
              "  [theme=dark] .colab-df-quickchart {\n",
              "      --bg-color: #3B4455;\n",
              "      --fill-color: #D2E3FC;\n",
              "      --hover-bg-color: #434B5C;\n",
              "      --hover-fill-color: #FFFFFF;\n",
              "      --disabled-bg-color: #3B4455;\n",
              "      --disabled-fill-color: #666;\n",
              "  }\n",
              "\n",
              "  .colab-df-quickchart {\n",
              "    background-color: var(--bg-color);\n",
              "    border: none;\n",
              "    border-radius: 50%;\n",
              "    cursor: pointer;\n",
              "    display: none;\n",
              "    fill: var(--fill-color);\n",
              "    height: 32px;\n",
              "    padding: 0;\n",
              "    width: 32px;\n",
              "  }\n",
              "\n",
              "  .colab-df-quickchart:hover {\n",
              "    background-color: var(--hover-bg-color);\n",
              "    box-shadow: 0 1px 2px rgba(60, 64, 67, 0.3), 0 1px 3px 1px rgba(60, 64, 67, 0.15);\n",
              "    fill: var(--button-hover-fill-color);\n",
              "  }\n",
              "\n",
              "  .colab-df-quickchart-complete:disabled,\n",
              "  .colab-df-quickchart-complete:disabled:hover {\n",
              "    background-color: var(--disabled-bg-color);\n",
              "    fill: var(--disabled-fill-color);\n",
              "    box-shadow: none;\n",
              "  }\n",
              "\n",
              "  .colab-df-spinner {\n",
              "    border: 2px solid var(--fill-color);\n",
              "    border-color: transparent;\n",
              "    border-bottom-color: var(--fill-color);\n",
              "    animation:\n",
              "      spin 1s steps(1) infinite;\n",
              "  }\n",
              "\n",
              "  @keyframes spin {\n",
              "    0% {\n",
              "      border-color: transparent;\n",
              "      border-bottom-color: var(--fill-color);\n",
              "      border-left-color: var(--fill-color);\n",
              "    }\n",
              "    20% {\n",
              "      border-color: transparent;\n",
              "      border-left-color: var(--fill-color);\n",
              "      border-top-color: var(--fill-color);\n",
              "    }\n",
              "    30% {\n",
              "      border-color: transparent;\n",
              "      border-left-color: var(--fill-color);\n",
              "      border-top-color: var(--fill-color);\n",
              "      border-right-color: var(--fill-color);\n",
              "    }\n",
              "    40% {\n",
              "      border-color: transparent;\n",
              "      border-right-color: var(--fill-color);\n",
              "      border-top-color: var(--fill-color);\n",
              "    }\n",
              "    60% {\n",
              "      border-color: transparent;\n",
              "      border-right-color: var(--fill-color);\n",
              "    }\n",
              "    80% {\n",
              "      border-color: transparent;\n",
              "      border-right-color: var(--fill-color);\n",
              "      border-bottom-color: var(--fill-color);\n",
              "    }\n",
              "    90% {\n",
              "      border-color: transparent;\n",
              "      border-bottom-color: var(--fill-color);\n",
              "    }\n",
              "  }\n",
              "</style>\n",
              "\n",
              "  <script>\n",
              "    async function quickchart(key) {\n",
              "      const quickchartButtonEl =\n",
              "        document.querySelector('#' + key + ' button');\n",
              "      quickchartButtonEl.disabled = true;  // To prevent multiple clicks.\n",
              "      quickchartButtonEl.classList.add('colab-df-spinner');\n",
              "      try {\n",
              "        const charts = await google.colab.kernel.invokeFunction(\n",
              "            'suggestCharts', [key], {});\n",
              "      } catch (error) {\n",
              "        console.error('Error during call to suggestCharts:', error);\n",
              "      }\n",
              "      quickchartButtonEl.classList.remove('colab-df-spinner');\n",
              "      quickchartButtonEl.classList.add('colab-df-quickchart-complete');\n",
              "    }\n",
              "    (() => {\n",
              "      let quickchartButtonEl =\n",
              "        document.querySelector('#df-5017ad64-c002-414e-8bd5-22db86e65f98 button');\n",
              "      quickchartButtonEl.style.display =\n",
              "        google.colab.kernel.accessAllowed ? 'block' : 'none';\n",
              "    })();\n",
              "  </script>\n",
              "</div>\n",
              "    </div>\n",
              "  </div>\n"
            ]
          },
          "metadata": {},
          "execution_count": 25
        }
      ],
      "source": [
        "test_df.head()"
      ]
    },
    {
      "cell_type": "code",
      "execution_count": null,
      "metadata": {
        "id": "qdSJ3h6mU6JJ"
      },
      "outputs": [],
      "source": [
        "inv_map = {v: k for k, v in label_to_index.items()}"
      ]
    },
    {
      "cell_type": "code",
      "source": [
        "def image_test_generator(df, batch_size, target_size=(224, 224)):\n",
        "    num_samples = len(df)\n",
        "    while True:\n",
        "        for offset in range(0, num_samples, batch_size):\n",
        "            batch_samples = df.iloc[offset:offset+batch_size]\n",
        "            X_batch = []\n",
        "            for json_data in batch_samples['drawing']:\n",
        "                image = vector_to_image(json_data)\n",
        "                image = image.resize(target_size)  # Resize to (224, 224)\n",
        "                image_array = img_to_array(image)\n",
        "                X_batch.append(image_array)\n",
        "            X_batch = np.array(X_batch)\n",
        "            yield X_batch"
      ],
      "metadata": {
        "id": "JPfCZR6Iz_bl"
      },
      "execution_count": null,
      "outputs": []
    },
    {
      "cell_type": "code",
      "source": [
        "# Assuming you have a DataFrame 'test_df' with testing data\n",
        "\n",
        "# Define batch size for testing\n",
        "batch_size_test = 200\n",
        "\n",
        "# Create a custom data generator for testing data\n",
        "test_generator = image_test_generator(test_df, batch_size=batch_size_test)\n",
        "\n",
        "# Calculate the number of steps for testing\n",
        "steps_test = len(test_df) // batch_size_test\n",
        "\n",
        "# Generate predictions for testing data\n",
        "predictions = model.predict(test_generator, steps=steps_test)\n",
        "\n",
        "# 'predictions' will now contain the model's predicted outputs for the testing data."
      ],
      "metadata": {
        "id": "oU5JCCWy5WD1",
        "colab": {
          "base_uri": "https://localhost:8080/"
        },
        "outputId": "5cbe8b68-0318-4510-ae0e-759fa0e6c09d"
      },
      "execution_count": null,
      "outputs": [
        {
          "output_type": "stream",
          "name": "stdout",
          "text": [
            "927/927 [==============================] - 621s 667ms/step\n"
          ]
        }
      ]
    },
    {
      "cell_type": "code",
      "source": [
        "batch_samples = test_df.iloc[185400: 185439]\n",
        "X_batch = []\n",
        "for json_data in batch_samples['drawing']:\n",
        "    image = vector_to_image(json_data)\n",
        "    image = image.resize((224, 224))  # Resize to (224, 224)\n",
        "    image_array = img_to_array(image)\n",
        "    X_batch.append(image_array)\n",
        "X_batch = np.array(X_batch)\n",
        "preds = model.predict(X_batch)"
      ],
      "metadata": {
        "id": "BFNWJd57C8jR",
        "colab": {
          "base_uri": "https://localhost:8080/"
        },
        "outputId": "8e037188-162a-4954-db25-ccddf7aeab2f"
      },
      "execution_count": null,
      "outputs": [
        {
          "output_type": "stream",
          "name": "stdout",
          "text": [
            "2/2 [==============================] - 2s 650ms/step\n"
          ]
        }
      ]
    },
    {
      "cell_type": "code",
      "source": [
        "predictions = np.concatenate((predictions, preds))"
      ],
      "metadata": {
        "id": "YcoJo94gDhIa"
      },
      "execution_count": null,
      "outputs": []
    },
    {
      "cell_type": "code",
      "source": [
        "predictions = predictions.reshape(-1, 101)\n",
        "print(predictions)"
      ],
      "metadata": {
        "id": "-9c78SQcG504",
        "colab": {
          "base_uri": "https://localhost:8080/"
        },
        "outputId": "78566846-85b5-4162-cf3a-f0e19ccb1f2b"
      },
      "execution_count": null,
      "outputs": [
        {
          "output_type": "stream",
          "name": "stdout",
          "text": [
            "[[1.2077507e-02 6.1553053e-04 7.4834619e-03 ... 6.4066780e-04\n",
            "  2.7721971e-02 6.0905437e-03]\n",
            " [1.4810668e-02 1.0589069e-03 2.2331015e-03 ... 1.1512469e-02\n",
            "  7.5245771e-04 2.6997871e-04]\n",
            " [3.4910417e-04 1.3711048e-02 2.3388922e-05 ... 6.8243546e-04\n",
            "  9.0662164e-05 1.0217065e-03]\n",
            " ...\n",
            " [1.4785310e-03 4.5104025e-04 7.3764436e-03 ... 1.2666466e-02\n",
            "  8.7801553e-03 1.0578039e-04]\n",
            " [8.2819804e-04 4.1304063e-03 1.0434696e-03 ... 4.6770616e-05\n",
            "  1.8442508e-03 2.1816771e-03]\n",
            " [2.1875616e-04 2.0464313e-04 2.5929508e-04 ... 2.0161344e-04\n",
            "  1.7846655e-04 1.5804740e-03]]\n"
          ]
        }
      ]
    },
    {
      "cell_type": "code",
      "source": [
        "def get_strings(soft_arr):\n",
        "  top_indices = np.argsort(-1*soft_arr, axis=1)[:, :3]\n",
        "  s1 = inv_map[top_indices[0][0]]\n",
        "  s2 = inv_map[top_indices[0][1]]\n",
        "  s3 = inv_map[top_indices[0][2]]\n",
        "  return f\"{s1} {s2} {s3}\""
      ],
      "metadata": {
        "id": "jVasgfjcEJlR"
      },
      "execution_count": null,
      "outputs": []
    },
    {
      "cell_type": "code",
      "execution_count": null,
      "metadata": {
        "id": "1LyyVTQqrk_B"
      },
      "outputs": [],
      "source": [
        "pr = [row.reshape(1, -1) for row in predictions]"
      ]
    },
    {
      "cell_type": "code",
      "source": [
        "result = [get_strings(row) for row in pr]"
      ],
      "metadata": {
        "id": "kgCBFGgBLLCM"
      },
      "execution_count": null,
      "outputs": []
    },
    {
      "cell_type": "code",
      "execution_count": null,
      "metadata": {
        "id": "zywtMMVKiMp2"
      },
      "outputs": [],
      "source": [
        "ss['word'] = result"
      ]
    },
    {
      "cell_type": "code",
      "source": [
        "ss.to_csv(\"/content/sample_submission.csv\", index=False)"
      ],
      "metadata": {
        "id": "ryDuMxNfOc0k"
      },
      "execution_count": null,
      "outputs": []
    }
  ],
  "metadata": {
    "accelerator": "GPU",
    "colab": {
      "provenance": [],
      "include_colab_link": true
    },
    "kernelspec": {
      "display_name": "Python 3",
      "name": "python3"
    },
    "language_info": {
      "name": "python"
    }
  },
  "nbformat": 4,
  "nbformat_minor": 0
}